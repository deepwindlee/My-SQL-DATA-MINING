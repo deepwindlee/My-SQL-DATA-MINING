{
 "cells": [
  {
   "cell_type": "code",
   "execution_count": 6,
   "metadata": {
    "ExecuteTime": {
     "end_time": "2021-05-28T08:05:25.167311Z",
     "start_time": "2021-05-28T08:05:25.149322Z"
    }
   },
   "outputs": [],
   "source": [
    "import pandas as pd"
   ]
  },
  {
   "cell_type": "code",
   "execution_count": 7,
   "metadata": {
    "ExecuteTime": {
     "end_time": "2021-05-28T08:05:25.661248Z",
     "start_time": "2021-05-28T08:05:25.648885Z"
    }
   },
   "outputs": [],
   "source": [
    "#pwd"
   ]
  },
  {
   "cell_type": "code",
   "execution_count": 8,
   "metadata": {
    "ExecuteTime": {
     "end_time": "2021-05-28T08:05:26.338715Z",
     "start_time": "2021-05-28T08:05:26.327262Z"
    }
   },
   "outputs": [],
   "source": [
    "data_dir = r'C:\\\\Users\\\\mydeepwind\\\\Desktop\\\\HS\\\\xx周报\\\\国控站数据累计天数2021.xlsx'"
   ]
  },
  {
   "cell_type": "code",
   "execution_count": 9,
   "metadata": {
    "ExecuteTime": {
     "end_time": "2021-05-28T08:05:26.947180Z",
     "start_time": "2021-05-28T08:05:26.845175Z"
    }
   },
   "outputs": [],
   "source": [
    "df = pd.read_excel(data_dir,skiprows=1)"
   ]
  },
  {
   "cell_type": "code",
   "execution_count": 10,
   "metadata": {
    "ExecuteTime": {
     "end_time": "2021-05-28T08:05:27.387708Z",
     "start_time": "2021-05-28T08:05:27.380740Z"
    }
   },
   "outputs": [],
   "source": [
    "#df.columns"
   ]
  },
  {
   "cell_type": "code",
   "execution_count": 11,
   "metadata": {
    "ExecuteTime": {
     "end_time": "2021-05-28T08:05:27.901744Z",
     "start_time": "2021-05-28T08:05:27.887845Z"
    }
   },
   "outputs": [],
   "source": [
    "DF =df[['Unnamed: 0','Unnamed: 13' ,'Unnamed: 14']].rename(columns={'Unnamed: 0':'DAY','Unnamed: 13':'AQI','Unnamed: 14':'MAIN'})\\\n",
    ".drop(index=[0])#[['空气质量指数(AQI)']]\n",
    "DF['DAY']= DF['DAY'].astype(str)"
   ]
  },
  {
   "cell_type": "code",
   "execution_count": 12,
   "metadata": {
    "ExecuteTime": {
     "end_time": "2021-05-28T08:05:28.450743Z",
     "start_time": "2021-05-28T08:05:28.443746Z"
    }
   },
   "outputs": [],
   "source": [
    "#DF[['DAY','AQI']]"
   ]
  },
  {
   "cell_type": "code",
   "execution_count": 13,
   "metadata": {
    "ExecuteTime": {
     "end_time": "2021-05-28T08:05:30.565635Z",
     "start_time": "2021-05-28T08:05:30.537628Z"
    }
   },
   "outputs": [
    {
     "name": "stdout",
     "output_type": "stream",
     "text": [
      "pyecharts version: 1.6.0\n"
     ]
    }
   ],
   "source": [
    "import pyecharts\n",
    "print('pyecharts version:',pyecharts.__version__)\n",
    "from pyecharts import options as opts\n",
    "from pyecharts.charts import Calendar\n",
    "import arrow\n",
    "start= arrow.get('2021-01-01','YYYY-MM-DD')\n",
    "end= arrow.get('2021-12-31','YYYY-MM-DD')\n",
    "datelist= list(map(lambda dt: dt.format('YYYY-MM-DD'), arrow.Arrow.range('day', start, end)))\n"
   ]
  },
  {
   "cell_type": "code",
   "execution_count": 14,
   "metadata": {
    "ExecuteTime": {
     "end_time": "2021-05-28T08:05:31.197626Z",
     "start_time": "2021-05-28T08:05:31.184496Z"
    }
   },
   "outputs": [],
   "source": [
    "Date_df =pd.DataFrame(datelist).rename(columns={0:'DAY'})"
   ]
  },
  {
   "cell_type": "code",
   "execution_count": null,
   "metadata": {},
   "outputs": [],
   "source": []
  },
  {
   "cell_type": "code",
   "execution_count": 15,
   "metadata": {
    "ExecuteTime": {
     "end_time": "2021-05-28T08:05:32.251186Z",
     "start_time": "2021-05-28T08:05:32.239388Z"
    }
   },
   "outputs": [],
   "source": [
    "RES =Date_df.merge(DF,how='left')\n",
    "#RES = RES.fillna(0)\n",
    "day_list = RES.DAY.to_list()\n",
    "AQI_list = RES.AQI.to_list()"
   ]
  },
  {
   "cell_type": "code",
   "execution_count": 16,
   "metadata": {
    "ExecuteTime": {
     "end_time": "2021-05-28T08:05:33.630273Z",
     "start_time": "2021-05-28T08:05:32.942271Z"
    }
   },
   "outputs": [],
   "source": [
    "from datetime import datetime\n",
    "import glob\n",
    "from datetime import datetime, timedelta\n",
    "import numpy as np\n",
    "import pandas as pd\n",
    "\n",
    "from matplotlib import cm, colors\n",
    "import matplotlib.dates as mdates\n",
    "import matplotlib.patches as mpatches\n",
    "import matplotlib.pyplot as plt\n",
    "\n",
    "begin = datetime(2021, 1, 1)\n",
    "end = datetime(2021, 12, 31)\n",
    "\n",
    "data = [\n",
    "    [str(begin + timedelta(days=i)), AQI_list[i]]\n",
    "    for i in range((end - begin).days + 1)\n",
    "]\n",
    "\n",
    "colors_aqi = ['#009966', '#FFDE33', '#FF9A32', '#CC0033', '#660099']\n",
    "levels = [0, 50, 100, 150, 200, 300]\n",
    "\n",
    "cmap_aqi = colors.ListedColormap(colors_aqi)  \n",
    "norm = colors.BoundaryNorm(levels, cmap_aqi.N)"
   ]
  },
  {
   "cell_type": "code",
   "execution_count": 17,
   "metadata": {
    "ExecuteTime": {
     "end_time": "2021-05-28T08:05:33.767591Z",
     "start_time": "2021-05-28T08:05:33.756680Z"
    }
   },
   "outputs": [],
   "source": [
    "#data"
   ]
  },
  {
   "cell_type": "code",
   "execution_count": 19,
   "metadata": {
    "ExecuteTime": {
     "end_time": "2021-05-28T08:06:18.303821Z",
     "start_time": "2021-05-28T08:06:18.279820Z"
    }
   },
   "outputs": [
    {
     "data": {
      "text/plain": [
       "'C:\\\\Users\\\\mydeepwind\\\\Desktop\\\\HS\\\\ddf.html'"
      ]
     },
     "execution_count": 19,
     "metadata": {},
     "output_type": "execute_result"
    }
   ],
   "source": [
    "c = (\n",
    "    Calendar(init_opts=opts.InitOpts(width=\"1200px\",height= \"200px\"))\n",
    "        .add('', data, calendar_opts=opts.CalendarOpts(range_=str(2021) ,daylabel_opts = None )          )\n",
    "        .set_global_opts(\n",
    "            title_opts=opts.TitleOpts( title=\"xx国控站\"+str(2021)+ \"年AQI\" ,pos_left=\"50%\"),\n",
    "            visualmap_opts=opts.VisualMapOpts(\n",
    "                max_=300,\n",
    "                min_=0,\n",
    "                range_size=[0, 50, 100, 150, 200, 300],\n",
    "                pieces= [{'min': 0, 'max': 50},\n",
    "                     {'min': 51, 'max': 100},\n",
    "                     {'min': 101, 'max': 150}, \n",
    "                     {'min': 151, 'max': 200}, \n",
    "                     {'min': 201, 'max': 300}],\n",
    "                range_color=colors_aqi,\n",
    "                orient ='horizontal',\n",
    "                is_piecewise=True,\n",
    "                is_calculable=True,\n",
    "                pos_right =\"20%\",\n",
    "                pos_top ='10%'\n",
    "                #pos_top=\"30px\",\n",
    "                #pos_left =\"10px\",\n",
    "            ),\n",
    "        )\n",
    "    )\n",
    "\n",
    "c.render('ddf.html')"
   ]
  },
  {
   "cell_type": "code",
   "execution_count": null,
   "metadata": {},
   "outputs": [],
   "source": []
  },
  {
   "cell_type": "code",
   "execution_count": null,
   "metadata": {},
   "outputs": [],
   "source": []
  },
  {
   "cell_type": "code",
   "execution_count": null,
   "metadata": {},
   "outputs": [],
   "source": []
  }
 ],
 "metadata": {
  "kernelspec": {
   "display_name": "Python 3",
   "language": "python",
   "name": "python3"
  },
  "language_info": {
   "codemirror_mode": {
    "name": "ipython",
    "version": 3
   },
   "file_extension": ".py",
   "mimetype": "text/x-python",
   "name": "python",
   "nbconvert_exporter": "python",
   "pygments_lexer": "ipython3",
   "version": "3.6.8"
  },
  "toc": {
   "base_numbering": 1,
   "nav_menu": {},
   "number_sections": true,
   "sideBar": true,
   "skip_h1_title": false,
   "title_cell": "Table of Contents",
   "title_sidebar": "Contents",
   "toc_cell": false,
   "toc_position": {},
   "toc_section_display": true,
   "toc_window_display": false
  },
  "varInspector": {
   "cols": {
    "lenName": 16,
    "lenType": 16,
    "lenVar": 40
   },
   "kernels_config": {
    "python": {
     "delete_cmd_postfix": "",
     "delete_cmd_prefix": "del ",
     "library": "var_list.py",
     "varRefreshCmd": "print(var_dic_list())"
    },
    "r": {
     "delete_cmd_postfix": ") ",
     "delete_cmd_prefix": "rm(",
     "library": "var_list.r",
     "varRefreshCmd": "cat(var_dic_list()) "
    }
   },
   "types_to_exclude": [
    "module",
    "function",
    "builtin_function_or_method",
    "instance",
    "_Feature"
   ],
   "window_display": false
  }
 },
 "nbformat": 4,
 "nbformat_minor": 2
}
