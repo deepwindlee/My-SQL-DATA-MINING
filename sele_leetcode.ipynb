{
 "cells": [
  {
   "cell_type": "code",
   "execution_count": 125,
   "metadata": {},
   "outputs": [],
   "source": [
    "import os \n",
    "from selenium import webdriver\n",
    "# from selenium.webdriver.chrome.service import Service\n",
    "# 延时器\n",
    "from time import sleep\n",
    "from selenium import webdriver\n",
    "from selenium.webdriver.common.keys import Keys\n",
    "import time \n",
    "from selenium.webdriver.common.by import By\n",
    "from selenium.webdriver.support.ui import WebDriverWait\n",
    "from selenium.webdriver.support import expected_conditions as EC\n",
    "from  bs4 import BeautifulSoup\n",
    "import json\n"
   ]
  },
  {
   "cell_type": "code",
   "execution_count": 126,
   "metadata": {},
   "outputs": [],
   "source": [
    "\n",
    "option = webdriver.ChromeOptions()\n",
    "# 防止打印一些无用的日志\n",
    "option.add_experimental_option(\"excludeSwitches\", ['enable-automation', 'enable-logging'])\n",
    "option.add_experimental_option('detach', True) # 不自动关闭浏览\n",
    "driver = webdriver.Chrome(options=option)    # Chrome浏览器\n",
    "driver.get('https://leetcode.cn/problems/add-two-numbers/solutions/')\n",
    "# 休眠5秒\n",
    "\n",
    "# 等待页面加载完成\n",
    "wait = WebDriverWait(driver,5)\n",
    "element = wait.until(EC.element_to_be_clickable((By.XPATH, '//div[text()=\"官方\"]')))\n",
    "# 点击\"官方\"按钮\n",
    "driver.find_element(By.XPATH, '//div[text()=\"官方\"]').click()\n"
   ]
  },
  {
   "cell_type": "code",
   "execution_count": 127,
   "metadata": {},
   "outputs": [
    {
     "data": {
      "text/plain": [
       "'C++JavaC#JavaScriptGolangCclass Solution {\\npublic:\\n    ListNode* addTwoNumbers(ListNode* l1, ListNode* l2) {\\n        ListNode *head = nullptr, *tail = nullptr;\\n        int carry = 0;\\n        while (l1 || l2) {\\n            int n1 = l1 ? l1->val: 0;\\n            int n2 = l2 ? l2->val: 0;\\n            int sum = n1 + n2 + carry;\\n            if (!head) {\\n                head = tail = new ListNode(sum % 10);\\n            } else {\\n                tail->next = new ListNode(sum % 10);\\n                tail = tail->next;\\n            }\\n            carry = sum / 10;\\n            if (l1) {\\n                l1 = l1->next;\\n            }\\n            if (l2) {\\n                l2 = l2->next;\\n            }\\n        }\\n        if (carry > 0) {\\n            tail->next = new ListNode(carry);\\n        }\\n        return head;\\n    }\\n};'"
      ]
     },
     "execution_count": 127,
     "metadata": {},
     "output_type": "execute_result"
    }
   ],
   "source": [
    "# beautiful解析源码  获得 第一个代码块  的  语言tab\n",
    "html = driver.page_source\n",
    "soup =BeautifulSoup(html ,'html.parser')\n",
    "code_block_list=soup.find_all('div',class_ = 'border-gray-3 dark:border-dark-gray-3 mb-6 overflow-hidden rounded-lg border')  # 大代码块  列表"
   ]
  },
  {
   "cell_type": "markdown",
   "metadata": {},
   "source": [
    "language_choice_list = soup.find_all('div',class_ = lambda x : x and x.startswith('relative cursor-pointer px-3 py-3'))\n",
    "language_list =[each.text  for each in  language_choice_list ]\n",
    "language_list"
   ]
  },
  {
   "cell_type": "markdown",
   "metadata": {},
   "source": [
    "code_block_list=soup.find_all('div',class_ = 'group relative')\n",
    "code_block_list[0].text"
   ]
  },
  {
   "cell_type": "markdown",
   "metadata": {},
   "source": [
    "\n",
    "code_block_list=soup.find_all('div',class_ = 'border-gray-3 dark:border-dark-gray-3 mb-6 overflow-hidden rounded-lg border')  # 大代码块  列表\n",
    "aa = code_block_list[0]\n",
    "aa.text"
   ]
  },
  {
   "cell_type": "code",
   "execution_count": 128,
   "metadata": {},
   "outputs": [],
   "source": [
    "# 第一个代码块   的 语言tab\n",
    "block_language_choice_list= code_block_list[0].find_all('div',class_ = lambda x : x and x.startswith('relative cursor-pointer px-3 py-3'))\n",
    "block_language_list =[each.text  for each in  block_language_choice_list ]  #代码块 语言tab"
   ]
  },
  {
   "cell_type": "code",
   "execution_count": 88,
   "metadata": {},
   "outputs": [],
   "source": [
    "language_name ='Java'"
   ]
  },
  {
   "cell_type": "code",
   "execution_count": 129,
   "metadata": {},
   "outputs": [
    {
     "data": {
      "text/plain": [
       "\"//div[starts-with(@class,'relative cursor-pointer px-3 py-3') and contains(text(),'Java')  ][text()='Java']\""
      ]
     },
     "execution_count": 129,
     "metadata": {},
     "output_type": "execute_result"
    }
   ],
   "source": [
    "what_find = f\"//div[starts-with(@class,'relative cursor-pointer px-3 py-3') and contains(text(),'{language_name}')  ][text()='{language_name}']\"\n",
    "what_find"
   ]
  },
  {
   "cell_type": "code",
   "execution_count": 130,
   "metadata": {},
   "outputs": [],
   "source": [
    "ele_list =driver.find_elements(By.XPATH,what_find)\n",
    "ele_list[0].click()"
   ]
  },
  {
   "cell_type": "code",
   "execution_count": 87,
   "metadata": {},
   "outputs": [],
   "source": [
    "ele_list[0].click()"
   ]
  },
  {
   "cell_type": "code",
   "execution_count": null,
   "metadata": {},
   "outputs": [],
   "source": []
  },
  {
   "cell_type": "code",
   "execution_count": 51,
   "metadata": {},
   "outputs": [],
   "source": [
    "element_lang =driver.find_elements(By.XPATH,\"//div[@class='relative cursor-pointer px-3 py-3 text-label-4 dark:text-dark-label-4 hover:text-label-1 dark:hover:text-dark-label-1 EoHqa']\")"
   ]
  },
  {
   "cell_type": "code",
   "execution_count": 132,
   "metadata": {},
   "outputs": [],
   "source": [
    "#BeautifulSoup 解析获得语言tab列表\n",
    "block_language_choice_list= code_block_list[0].find_all('div',class_ = lambda x : x and x.startswith('relative cursor-pointer px-3 py-3'))\n",
    "block_language_list =[each.text  for each in  block_language_choice_list ]  #代码块 语言tab"
   ]
  },
  {
   "cell_type": "code",
   "execution_count": null,
   "metadata": {},
   "outputs": [],
   "source": []
  },
  {
   "cell_type": "code",
   "execution_count": 155,
   "metadata": {},
   "outputs": [],
   "source": [
    "# 语言tab  对应的代码块的 code cllass 名称\n",
    "dict_language_class_name={}\n",
    "dict_language_class_name['C++']  ='language-cpp'\n",
    "dict_language_class_name['Java'] = 'language-java'\n",
    "dict_language_class_name['C#'] = 'language-csharp'\n",
    "dict_language_class_name['JavaScript'] = 'language-javascript'\n",
    "dict_language_class_name['Golang'] = 'language-go'\n",
    "dict_language_class_name['C'] = 'language-c'\n",
    "dict_language_class_name['Python3'] = 'language-python'\n",
    "#dict_language_class_name['Golang']"
   ]
  },
  {
   "cell_type": "code",
   "execution_count": 150,
   "metadata": {},
   "outputs": [
    {
     "data": {
      "text/plain": [
       "'//code[@class=\"language_csharp\"]'"
      ]
     },
     "execution_count": 150,
     "metadata": {},
     "output_type": "execute_result"
    }
   ],
   "source": [
    "what_click"
   ]
  },
  {
   "cell_type": "code",
   "execution_count": 157,
   "metadata": {},
   "outputs": [
    {
     "name": "stdout",
     "output_type": "stream",
     "text": [
      "点击 C++\n",
      "语言对应的代码块元素 //code[@class=\"language-cpp\"]\n",
      "点击 Java\n",
      "语言对应的代码块元素 //code[@class=\"language-java\"]\n",
      "点击 C#\n",
      "语言对应的代码块元素 //code[@class=\"language-csharp\"]\n",
      "点击 JavaScript\n",
      "语言对应的代码块元素 //code[@class=\"language-javascript\"]\n",
      "点击 Golang\n",
      "语言对应的代码块元素 //code[@class=\"language-go\"]\n",
      "点击 C\n",
      "语言对应的代码块元素 //code[@class=\"language-c\"]\n"
     ]
    }
   ],
   "source": [
    "# 对代码块 进行 语言tab 点击切换\n",
    "for language in block_language_list[0:]:\n",
    "    language_clss_name = dict_language_class_name[language]\n",
    "    what_find = f\"//div[starts-with(@class,'relative cursor-pointer px-3 py-3') and contains(text(),'{language}')  ][text()='{language}']\"\n",
    "    ele =driver.find_element(By.XPATH,what_find)\n",
    "    ele.click()\n",
    "    sleep(5)\n",
    "    print('点击',language)\n",
    "\n",
    "   # t = driver.find_element(By.XPATH, '//code[@class=\"language-cpp\"]')\n",
    "    what_click =f'//code[@class=\"{language_clss_name}\"]'\n",
    "    print('语言对应的代码块元素',what_click)\n",
    "    t = driver.find_element(By.XPATH, what_click  )\n",
    "    \n",
    "    # html_new = driver.page_source\n",
    "    # soup_new = BeautifulSoup(html_new ,'html.parser')\n",
    "    "
   ]
  },
  {
   "cell_type": "code",
   "execution_count": 145,
   "metadata": {},
   "outputs": [
    {
     "data": {
      "text/plain": [
       "'//code[@class=\"language_csharp\"]'"
      ]
     },
     "execution_count": 145,
     "metadata": {},
     "output_type": "execute_result"
    }
   ],
   "source": [
    "#what_click\n",
    "f'//code[@class=\"{language_clss_name}\"]'"
   ]
  },
  {
   "cell_type": "code",
   "execution_count": 124,
   "metadata": {},
   "outputs": [
    {
     "data": {
      "text/plain": [
       "'public class Solution {\\n    public ListNode AddTwoNumbers(ListNode l1, ListNode l2) {\\n        ListNode head = null, tail = null;\\n        int carry = 0;\\n        while (l1 != null || l2 != null) {\\n            int n1 = l1 != null ? l1.val : 0;\\n            int n2 = l2 != null ? l2.val : 0;\\n            int sum = n1 + n2 + carry;\\n            if (head == null) {\\n                head = tail = new ListNode(sum % 10);\\n            } else {\\n                tail.next = new ListNode(sum % 10);\\n                tail = tail.next;\\n            }\\n            carry = sum / 10;\\n            if (l1 != null) {\\n                l1 = l1.next;\\n            }\\n            if (l2 != null) {\\n                l2 = l2.next;\\n            }\\n        }\\n        if (carry > 0) {\\n            tail.next = new ListNode(carry);\\n        }\\n        return head;\\n    }\\n}'"
      ]
     },
     "execution_count": 124,
     "metadata": {},
     "output_type": "execute_result"
    }
   ],
   "source": [
    "t.text"
   ]
  },
  {
   "cell_type": "code",
   "execution_count": null,
   "metadata": {},
   "outputs": [],
   "source": []
  },
  {
   "cell_type": "code",
   "execution_count": 115,
   "metadata": {},
   "outputs": [
    {
     "data": {
      "text/plain": [
       "'class Solution {\\npublic:\\n    ListNode* addTwoNumbers(ListNode* l1, ListNode* l2) {\\n        ListNode *head = nullptr, *tail = nullptr;\\n        int carry = 0;\\n        while (l1 || l2) {\\n            int n1 = l1 ? l1->val: 0;\\n            int n2 = l2 ? l2->val: 0;\\n            int sum = n1 + n2 + carry;\\n            if (!head) {\\n                head = tail = new ListNode(sum % 10);\\n            } else {\\n                tail->next = new ListNode(sum % 10);\\n                tail = tail->next;\\n            }\\n            carry = sum / 10;\\n            if (l1) {\\n                l1 = l1->next;\\n            }\\n            if (l2) {\\n                l2 = l2->next;\\n            }\\n        }\\n        if (carry > 0) {\\n            tail->next = new ListNode(carry);\\n        }\\n        return head;\\n    }\\n};'"
      ]
     },
     "execution_count": 115,
     "metadata": {},
     "output_type": "execute_result"
    }
   ],
   "source": [
    "code_block_list=soup_new.find_all('div',class_ = 'group relative')\n",
    "code_block_list[0].text"
   ]
  },
  {
   "cell_type": "code",
   "execution_count": null,
   "metadata": {},
   "outputs": [],
   "source": [
    "<div class=\"relative cursor-pointer px-3 py-3 text-label-1 dark:text-dark-label-1 font-medium EoHqa\">Java</div>"
   ]
  },
  {
   "cell_type": "code",
   "execution_count": 4,
   "metadata": {},
   "outputs": [],
   "source": [
    "soup =BeautifulSoup(html, 'html.parser')"
   ]
  },
  {
   "cell_type": "code",
   "execution_count": null,
   "metadata": {},
   "outputs": [],
   "source": [
    "<div class=\"border-gray-3 dark:border-dark-gray-3 mb-6 overflow-hidden rounded-lg border\"><div class=\"flex select-none bg-layer-2 dark:bg-dark-layer-2\"><div class=\"relative cursor-pointer px-3 py-3 text-label-1 dark:text-dark-label-1 font-medium EoHqa\">Python3</div></div><div class=\"px-3 py-2.5 bg-fill-3 dark:bg-dark-fill-3\"><div class=\"group relative\" translate=\"no\"><pre style=\"color: black; font-size: 13px; text-shadow: none; font-family: Menlo, Monaco, Consolas; text-align: left; white-space: pre; word-spacing: normal; word-break: normal; line-height: 1.5; tab-size: 4; hyphens: none; padding: 0px; margin: 0px; overflow: auto; background: transparent; overflow-wrap: normal;\"><code class=\"language-python\" style=\"text-shadow: none; white-space: pre;\"><span><span class=\"token\" style=\"color: rgb(0, 119, 170);\">class</span><span> </span><span class=\"token\" style=\"color: rgb(221, 74, 104);\">Solution</span><span class=\"token\" style=\"color: rgb(153, 153, 153);\">:</span><span>\n",
    "</span></span><span><span>    </span><span class=\"token\" style=\"color: rgb(0, 119, 170);\">def</span><span> </span><span class=\"token\" style=\"color: rgb(221, 74, 104);\">addTwoNumbers</span><span class=\"token\" style=\"color: rgb(153, 153, 153);\">(</span><span>self</span><span class=\"token\" style=\"color: rgb(153, 153, 153);\">,</span><span> l1</span><span class=\"token\" style=\"color: rgb(153, 153, 153);\">:</span><span> Optional</span><span class=\"token\" style=\"color: rgb(153, 153, 153);\">[</span><span>ListNode</span><span class=\"token\" style=\"color: rgb(153, 153, 153);\">]</span><span class=\"token\" style=\"color: rgb(153, 153, 153);\">,</span><span> l2</span><span class=\"token\" style=\"color: rgb(153, 153, 153);\">:</span><span> Optional</span><span class=\"token\" style=\"color: rgb(153, 153, 153);\">[</span><span>ListNode</span><span class=\"token\" style=\"color: rgb(153, 153, 153);\">]</span><span class=\"token\" style=\"color: rgb(153, 153, 153);\">)</span><span> </span><span class=\"token\" style=\"color: rgb(154, 110, 58); background: rgba(255, 255, 255, 0.5);\">-</span><span class=\"token\" style=\"color: rgb(154, 110, 58); background: rgba(255, 255, 255, 0.5);\">&gt;</span><span> Optional</span><span class=\"token\" style=\"color: rgb(153, 153, 153);\">[</span><span>ListNode</span><span class=\"token\" style=\"color: rgb(153, 153, 153);\">]</span><span class=\"token\" style=\"color: rgb(153, 153, 153);\">:</span><span>\n",
    "</span></span><span><span>        ret </span><span class=\"token\" style=\"color: rgb(154, 110, 58); background: rgba(255, 255, 255, 0.5);\">=</span><span> ListNode</span><span class=\"token\" style=\"color: rgb(153, 153, 153);\">(</span><span class=\"token\" style=\"color: rgb(153, 153, 153);\">)</span><span>\n",
    "</span></span><span><span>        p </span><span class=\"token\" style=\"color: rgb(154, 110, 58); background: rgba(255, 255, 255, 0.5);\">=</span><span> ret\n",
    "</span></span><span><span>        c </span><span class=\"token\" style=\"color: rgb(154, 110, 58); background: rgba(255, 255, 255, 0.5);\">=</span><span> </span><span class=\"token\" style=\"color: rgb(153, 0, 85);\">0</span><span>\n",
    "</span></span><span><span>        </span><span class=\"token\" style=\"color: rgb(0, 119, 170);\">while</span><span> l1 </span><span class=\"token\" style=\"color: rgb(0, 119, 170);\">or</span><span> l2 </span><span class=\"token\" style=\"color: rgb(0, 119, 170);\">or</span><span> c</span><span class=\"token\" style=\"color: rgb(153, 153, 153);\">:</span><span>\n",
    "</span></span><span><span>            s </span><span class=\"token\" style=\"color: rgb(154, 110, 58); background: rgba(255, 255, 255, 0.5);\">=</span><span> </span><span class=\"token\" style=\"color: rgb(153, 153, 153);\">(</span><span>l1</span><span class=\"token\" style=\"color: rgb(153, 153, 153);\">.</span><span>val </span><span class=\"token\" style=\"color: rgb(0, 119, 170);\">if</span><span> l1 </span><span class=\"token\" style=\"color: rgb(0, 119, 170);\">else</span><span> </span><span class=\"token\" style=\"color: rgb(153, 0, 85);\">0</span><span class=\"token\" style=\"color: rgb(153, 153, 153);\">)</span><span> </span><span class=\"token\" style=\"color: rgb(154, 110, 58); background: rgba(255, 255, 255, 0.5);\">+</span><span> </span><span class=\"token\" style=\"color: rgb(153, 153, 153);\">(</span><span>l2</span><span class=\"token\" style=\"color: rgb(153, 153, 153);\">.</span><span>val </span><span class=\"token\" style=\"color: rgb(0, 119, 170);\">if</span><span> l2 </span><span class=\"token\" style=\"color: rgb(0, 119, 170);\">else</span><span> </span><span class=\"token\" style=\"color: rgb(153, 0, 85);\">0</span><span class=\"token\" style=\"color: rgb(153, 153, 153);\">)</span><span> </span><span class=\"token\" style=\"color: rgb(154, 110, 58); background: rgba(255, 255, 255, 0.5);\">+</span><span> c\n",
    "</span></span><span><span>            t </span><span class=\"token\" style=\"color: rgb(154, 110, 58); background: rgba(255, 255, 255, 0.5);\">=</span><span> ListNode</span><span class=\"token\" style=\"color: rgb(153, 153, 153);\">(</span><span>s </span><span class=\"token\" style=\"color: rgb(154, 110, 58); background: rgba(255, 255, 255, 0.5);\">%</span><span> </span><span class=\"token\" style=\"color: rgb(153, 0, 85);\">10</span><span class=\"token\" style=\"color: rgb(153, 153, 153);\">)</span><span>\n",
    "</span></span><span><span>            c </span><span class=\"token\" style=\"color: rgb(154, 110, 58); background: rgba(255, 255, 255, 0.5);\">=</span><span> s </span><span class=\"token\" style=\"color: rgb(154, 110, 58); background: rgba(255, 255, 255, 0.5);\">//</span><span> </span><span class=\"token\" style=\"color: rgb(153, 0, 85);\">10</span><span>\n",
    "</span></span><span><span>            p</span><span class=\"token\" style=\"color: rgb(153, 153, 153);\">.</span><span class=\"token\" style=\"color: rgb(102, 153, 0);\">next</span><span> </span><span class=\"token\" style=\"color: rgb(154, 110, 58); background: rgba(255, 255, 255, 0.5);\">=</span><span> t\n",
    "</span></span><span><span>            p </span><span class=\"token\" style=\"color: rgb(154, 110, 58); background: rgba(255, 255, 255, 0.5);\">=</span><span> p</span><span class=\"token\" style=\"color: rgb(153, 153, 153);\">.</span><span class=\"token\" style=\"color: rgb(102, 153, 0);\">next</span><span>\n",
    "</span></span><span><span>            l1 </span><span class=\"token\" style=\"color: rgb(154, 110, 58); background: rgba(255, 255, 255, 0.5);\">=</span><span> l1</span><span class=\"token\" style=\"color: rgb(153, 153, 153);\">.</span><span class=\"token\" style=\"color: rgb(102, 153, 0);\">next</span><span> </span><span class=\"token\" style=\"color: rgb(0, 119, 170);\">if</span><span> l1 </span><span class=\"token\" style=\"color: rgb(0, 119, 170);\">else</span><span> </span><span class=\"token\" style=\"color: rgb(153, 0, 85);\">None</span><span>\n",
    "</span></span><span><span>            l2 </span><span class=\"token\" style=\"color: rgb(154, 110, 58); background: rgba(255, 255, 255, 0.5);\">=</span><span> l2</span><span class=\"token\" style=\"color: rgb(153, 153, 153);\">.</span><span class=\"token\" style=\"color: rgb(102, 153, 0);\">next</span><span> </span><span class=\"token\" style=\"color: rgb(0, 119, 170);\">if</span><span> l2 </span><span class=\"token\" style=\"color: rgb(0, 119, 170);\">else</span><span> </span><span class=\"token\" style=\"color: rgb(153, 0, 85);\">None</span><span>\n",
    "</span></span><span><span>        </span><span class=\"token\" style=\"color: rgb(0, 119, 170);\">return</span><span> ret</span><span class=\"token\" style=\"color: rgb(153, 153, 153);\">.</span><span class=\"token\" style=\"color: rgb(102, 153, 0);\">next</span></span></code></pre><div class=\"h-4 w-4 cursor-pointer fill-gray-6 hover:fill-gray-7 dark:fill-dark-gray-6 dark:hover:fill-dark-gray-7 absolute right-0 top-0\" data-state=\"closed\"><div><svg xmlns=\"http://www.w3.org/2000/svg\" viewBox=\"0 0 24 24\" width=\"1em\" height=\"1em\" fill=\"currentColor\" class=\"h-4 w-4 text-gray-6 hover:text-gray-7 dark:text-dark-gray-6 dark:hover:text-dark-gray-7 hidden group-hover:block\"><path fill-rule=\"evenodd\" d=\"M11.3 8.3H19a3 3 0 013 3V19a3 3 0 01-3 3h-7.7a3 3 0 01-3-3v-7.7a3 3 0 013-3zm0 2a1 1 0 00-1 1V19a1 1 0 001 1H19a1 1 0 001-1v-7.7a1 1 0 00-1-1h-7.7zm-5.6 3.4a1 1 0 110 2h-.9A2.8 2.8 0 012 12.9V4.8A2.8 2.8 0 014.8 2h8.1a2.8 2.8 0 012.8 2.8v.9a1 1 0 11-2 0v-.9a.8.8 0 00-.8-.8H4.8a.8.8 0 00-.8.8v8.1a.8.8 0 00.8.8h.9z\" clip-rule=\"evenodd\"></path></svg></div></div></div></div></div>"
   ]
  }
 ],
 "metadata": {
  "kernelspec": {
   "display_name": "base",
   "language": "python",
   "name": "python3"
  },
  "language_info": {
   "codemirror_mode": {
    "name": "ipython",
    "version": 3
   },
   "file_extension": ".py",
   "mimetype": "text/x-python",
   "name": "python",
   "nbconvert_exporter": "python",
   "pygments_lexer": "ipython3",
   "version": "3.11.5"
  }
 },
 "nbformat": 4,
 "nbformat_minor": 2
}
