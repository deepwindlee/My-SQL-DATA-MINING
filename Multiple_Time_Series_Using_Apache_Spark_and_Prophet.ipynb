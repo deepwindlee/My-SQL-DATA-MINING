{
  "nbformat": 4,
  "nbformat_minor": 0,
  "metadata": {
    "colab": {
      "name": "Multiple Time Series Using Apache Spark and Prophet.ipynb",
      "provenance": [],
      "collapsed_sections": [],
      "toc_visible": true,
      "authorship_tag": "ABX9TyPR1gCfb+I2+mwHjjrxR93R",
      "include_colab_link": true
    },
    "kernelspec": {
      "name": "python3",
      "display_name": "Python 3"
    }
  },
  "cells": [
    {
      "cell_type": "markdown",
      "metadata": {
        "id": "view-in-github",
        "colab_type": "text"
      },
      "source": [
        "<a href=\"https://colab.research.google.com/github/deepwindlee/MySQL-with-Python-DATA-MINING/blob/master/Multiple_Time_Series_Using_Apache_Spark_and_Prophet.ipynb\" target=\"_parent\"><img src=\"https://colab.research.google.com/assets/colab-badge.svg\" alt=\"Open In Colab\"/></a>"
      ]
    },
    {
      "cell_type": "markdown",
      "metadata": {
        "id": "DdapoIIQM7zA"
      },
      "source": [
        "# 安装Java环境\n",
        "\n",
        "---\n",
        "\n",
        "\n"
      ]
    },
    {
      "cell_type": "code",
      "metadata": {
        "id": "w7G9E8AbKDJK"
      },
      "source": [
        "!apt-get install -y openjdk-8-jdk-headless -qq >/dev/null"
      ],
      "execution_count": 6,
      "outputs": []
    },
    {
      "cell_type": "markdown",
      "metadata": {
        "id": "s0Se3x-2NxCb"
      },
      "source": [
        "https://www.youtube.com/watch?v=AO8pCAQ0sPw\n",
        "   \n",
        "   \n",
        "   https://github.com/srivatsan88/Mastering-Apache-Spark\n",
        "\n",
        "   https://github.com/srivatsan88/End-to-End-Time-Series/blob/master/Multiple_Time_Series_using_Apache_Spark_and_Prophet.ipynb"
      ]
    },
    {
      "cell_type": "code",
      "metadata": {
        "id": "c3EASoMbP5Jy"
      },
      "source": [
        ""
      ],
      "execution_count": 6,
      "outputs": []
    },
    {
      "cell_type": "code",
      "metadata": {
        "colab": {
          "base_uri": "https://localhost:8080/",
          "height": 35
        },
        "id": "S9izxDfeLCAZ",
        "outputId": "f068e867-cc8f-487e-b060-8f3b2be1b6c2"
      },
      "source": [
        "pwd"
      ],
      "execution_count": 7,
      "outputs": [
        {
          "output_type": "execute_result",
          "data": {
            "application/vnd.google.colaboratory.intrinsic+json": {
              "type": "string"
            },
            "text/plain": [
              "'/content'"
            ]
          },
          "metadata": {
            "tags": []
          },
          "execution_count": 7
        }
      ]
    },
    {
      "cell_type": "code",
      "metadata": {
        "id": "bO3gyfn7LNom"
      },
      "source": [
        "import os\n",
        "os.environ['JAVA_HOME'] = \"/usr/lib/jvm/java-8-openjdk-amd64\""
      ],
      "execution_count": 8,
      "outputs": []
    },
    {
      "cell_type": "code",
      "metadata": {
        "colab": {
          "base_uri": "https://localhost:8080/"
        },
        "id": "BnvCkyMXLjkQ",
        "outputId": "ca7a3119-0888-4dc1-d0bc-bb466a0651b4"
      },
      "source": [
        "!update-alternatives --set java /usr/lib/jvm/java-8-openjdk-amd64/jre/bin/java"
      ],
      "execution_count": 9,
      "outputs": [
        {
          "output_type": "stream",
          "text": [
            "update-alternatives: using /usr/lib/jvm/java-8-openjdk-amd64/jre/bin/java to provide /usr/bin/java (java) in manual mode\n"
          ],
          "name": "stdout"
        }
      ]
    },
    {
      "cell_type": "code",
      "metadata": {
        "colab": {
          "base_uri": "https://localhost:8080/"
        },
        "id": "SoqhedeILk-n",
        "outputId": "e44350fd-a135-44b3-bdf9-72c85dfd480b"
      },
      "source": [
        "!java -version"
      ],
      "execution_count": 10,
      "outputs": [
        {
          "output_type": "stream",
          "text": [
            "openjdk version \"1.8.0_275\"\n",
            "OpenJDK Runtime Environment (build 1.8.0_275-8u275-b01-0ubuntu1~18.04-b01)\n",
            "OpenJDK 64-Bit Server VM (build 25.275-b01, mixed mode)\n"
          ],
          "name": "stdout"
        }
      ]
    },
    {
      "cell_type": "markdown",
      "metadata": {
        "id": "M1--UnRzMvEY"
      },
      "source": [
        "# 安装pyspark  fbprophet\n",
        "\n"
      ]
    },
    {
      "cell_type": "code",
      "metadata": {
        "colab": {
          "base_uri": "https://localhost:8080/"
        },
        "id": "1a-ZEomLNMhA",
        "outputId": "60ff8af1-f456-49c3-cd2e-a744ed35c716"
      },
      "source": [
        "!pip install pyspark"
      ],
      "execution_count": 11,
      "outputs": [
        {
          "output_type": "stream",
          "text": [
            "Collecting pyspark\n",
            "\u001b[?25l  Downloading https://files.pythonhosted.org/packages/f0/26/198fc8c0b98580f617cb03cb298c6056587b8f0447e20fa40c5b634ced77/pyspark-3.0.1.tar.gz (204.2MB)\n",
            "\u001b[K     |████████████████████████████████| 204.2MB 53kB/s \n",
            "\u001b[?25hCollecting py4j==0.10.9\n",
            "\u001b[?25l  Downloading https://files.pythonhosted.org/packages/9e/b6/6a4fb90cd235dc8e265a6a2067f2a2c99f0d91787f06aca4bcf7c23f3f80/py4j-0.10.9-py2.py3-none-any.whl (198kB)\n",
            "\u001b[K     |████████████████████████████████| 204kB 35.1MB/s \n",
            "\u001b[?25hBuilding wheels for collected packages: pyspark\n",
            "  Building wheel for pyspark (setup.py) ... \u001b[?25l\u001b[?25hdone\n",
            "  Created wheel for pyspark: filename=pyspark-3.0.1-py2.py3-none-any.whl size=204612243 sha256=4f6903997800f90f5c3e77ca5a7d43da09a04b2c709ca082962cba5c0dd4bc22\n",
            "  Stored in directory: /root/.cache/pip/wheels/5e/bd/07/031766ca628adec8435bb40f0bd83bb676ce65ff4007f8e73f\n",
            "Successfully built pyspark\n",
            "Installing collected packages: py4j, pyspark\n",
            "Successfully installed py4j-0.10.9 pyspark-3.0.1\n"
          ],
          "name": "stdout"
        }
      ]
    },
    {
      "cell_type": "code",
      "metadata": {
        "colab": {
          "base_uri": "https://localhost:8080/"
        },
        "id": "TrUdGY1vNctO",
        "outputId": "5ded3f42-2305-4633-e32e-978c321558d0"
      },
      "source": [
        "!pip install pyarrow==0.15.1"
      ],
      "execution_count": 12,
      "outputs": [
        {
          "output_type": "stream",
          "text": [
            "Collecting pyarrow==0.15.1\n",
            "\u001b[?25l  Downloading https://files.pythonhosted.org/packages/6c/32/ce1926f05679ea5448fd3b98fbd9419d8c7a65f87d1a12ee5fb9577e3a8e/pyarrow-0.15.1-cp36-cp36m-manylinux2010_x86_64.whl (59.2MB)\n",
            "\u001b[K     |████████████████████████████████| 59.2MB 65kB/s \n",
            "\u001b[?25hRequirement already satisfied: six>=1.0.0 in /usr/local/lib/python3.6/dist-packages (from pyarrow==0.15.1) (1.15.0)\n",
            "Requirement already satisfied: numpy>=1.14 in /usr/local/lib/python3.6/dist-packages (from pyarrow==0.15.1) (1.18.5)\n",
            "Installing collected packages: pyarrow\n",
            "  Found existing installation: pyarrow 0.14.1\n",
            "    Uninstalling pyarrow-0.14.1:\n",
            "      Successfully uninstalled pyarrow-0.14.1\n",
            "Successfully installed pyarrow-0.15.1\n"
          ],
          "name": "stdout"
        }
      ]
    },
    {
      "cell_type": "code",
      "metadata": {
        "colab": {
          "base_uri": "https://localhost:8080/"
        },
        "id": "FUQg6Zr5QbhK",
        "outputId": "a50576d4-b14c-4c3a-eb8a-c2f9541916df"
      },
      "source": [
        "!pip install fbprophet"
      ],
      "execution_count": 13,
      "outputs": [
        {
          "output_type": "stream",
          "text": [
            "Requirement already satisfied: fbprophet in /usr/local/lib/python3.6/dist-packages (0.7.1)\n",
            "Requirement already satisfied: Cython>=0.22 in /usr/local/lib/python3.6/dist-packages (from fbprophet) (0.29.21)\n",
            "Requirement already satisfied: cmdstanpy==0.9.5 in /usr/local/lib/python3.6/dist-packages (from fbprophet) (0.9.5)\n",
            "Requirement already satisfied: pystan>=2.14 in /usr/local/lib/python3.6/dist-packages (from fbprophet) (2.19.1.1)\n",
            "Requirement already satisfied: numpy>=1.15.4 in /usr/local/lib/python3.6/dist-packages (from fbprophet) (1.18.5)\n",
            "Requirement already satisfied: pandas>=1.0.4 in /usr/local/lib/python3.6/dist-packages (from fbprophet) (1.1.4)\n",
            "Requirement already satisfied: matplotlib>=2.0.0 in /usr/local/lib/python3.6/dist-packages (from fbprophet) (3.2.2)\n",
            "Requirement already satisfied: LunarCalendar>=0.0.9 in /usr/local/lib/python3.6/dist-packages (from fbprophet) (0.0.9)\n",
            "Requirement already satisfied: convertdate>=2.1.2 in /usr/local/lib/python3.6/dist-packages (from fbprophet) (2.3.0)\n",
            "Requirement already satisfied: holidays>=0.10.2 in /usr/local/lib/python3.6/dist-packages (from fbprophet) (0.10.3)\n",
            "Requirement already satisfied: setuptools-git>=1.2 in /usr/local/lib/python3.6/dist-packages (from fbprophet) (1.2)\n",
            "Requirement already satisfied: python-dateutil>=2.8.0 in /usr/local/lib/python3.6/dist-packages (from fbprophet) (2.8.1)\n",
            "Requirement already satisfied: tqdm>=4.36.1 in /usr/local/lib/python3.6/dist-packages (from fbprophet) (4.41.1)\n",
            "Requirement already satisfied: pytz>=2017.2 in /usr/local/lib/python3.6/dist-packages (from pandas>=1.0.4->fbprophet) (2018.9)\n",
            "Requirement already satisfied: kiwisolver>=1.0.1 in /usr/local/lib/python3.6/dist-packages (from matplotlib>=2.0.0->fbprophet) (1.3.1)\n",
            "Requirement already satisfied: pyparsing!=2.0.4,!=2.1.2,!=2.1.6,>=2.0.1 in /usr/local/lib/python3.6/dist-packages (from matplotlib>=2.0.0->fbprophet) (2.4.7)\n",
            "Requirement already satisfied: cycler>=0.10 in /usr/local/lib/python3.6/dist-packages (from matplotlib>=2.0.0->fbprophet) (0.10.0)\n",
            "Requirement already satisfied: ephem>=3.7.5.3 in /usr/local/lib/python3.6/dist-packages (from LunarCalendar>=0.0.9->fbprophet) (3.7.7.1)\n",
            "Requirement already satisfied: pymeeus<=1,>=0.3.6 in /usr/local/lib/python3.6/dist-packages (from convertdate>=2.1.2->fbprophet) (0.3.7)\n",
            "Requirement already satisfied: korean-lunar-calendar in /usr/local/lib/python3.6/dist-packages (from holidays>=0.10.2->fbprophet) (0.2.1)\n",
            "Requirement already satisfied: six in /usr/local/lib/python3.6/dist-packages (from holidays>=0.10.2->fbprophet) (1.15.0)\n"
          ],
          "name": "stdout"
        }
      ]
    },
    {
      "cell_type": "markdown",
      "metadata": {
        "id": "K6WvZRBhQpYQ"
      },
      "source": [
        "# 读取数据\n",
        "\n"
      ]
    },
    {
      "cell_type": "code",
      "metadata": {
        "id": "m9LEhsa_QkNS"
      },
      "source": [
        "import matplotlib as mpl\n",
        "import matplotlib.pyplot as plt\n",
        "import pandas as pd\n",
        "from fbprophet import Prophet\n",
        "mpl.rcParams['figure.figsize'] = (10, 8)\n",
        "mpl.rcParams['axes.grid'] = False"
      ],
      "execution_count": 14,
      "outputs": []
    },
    {
      "cell_type": "code",
      "metadata": {
        "id": "KS3zwyp-uuwA"
      },
      "source": [
        "from pyspark.sql import SparkSession\n",
        "import pyspark\n",
        "spark = SparkSession.builder.master('local').getOrCreate()"
      ],
      "execution_count": 15,
      "outputs": []
    },
    {
      "cell_type": "code",
      "metadata": {
        "colab": {
          "base_uri": "https://localhost:8080/",
          "height": 407
        },
        "id": "yszCRXLQvggm",
        "outputId": "e94431e6-8f38-4aaf-d8ca-39f322ca4089"
      },
      "source": [
        "df = pd.read_csv('https://raw.githubusercontent.com/srivatsan88/YouTubeLI/master/dataset/weekly_sales_data.csv')\n",
        "df"
      ],
      "execution_count": 16,
      "outputs": [
        {
          "output_type": "execute_result",
          "data": {
            "text/html": [
              "<div>\n",
              "<style scoped>\n",
              "    .dataframe tbody tr th:only-of-type {\n",
              "        vertical-align: middle;\n",
              "    }\n",
              "\n",
              "    .dataframe tbody tr th {\n",
              "        vertical-align: top;\n",
              "    }\n",
              "\n",
              "    .dataframe thead th {\n",
              "        text-align: right;\n",
              "    }\n",
              "</style>\n",
              "<table border=\"1\" class=\"dataframe\">\n",
              "  <thead>\n",
              "    <tr style=\"text-align: right;\">\n",
              "      <th></th>\n",
              "      <th>date</th>\n",
              "      <th>store_id</th>\n",
              "      <th>sales</th>\n",
              "    </tr>\n",
              "  </thead>\n",
              "  <tbody>\n",
              "    <tr>\n",
              "      <th>0</th>\n",
              "      <td>1/6/2019</td>\n",
              "      <td>25</td>\n",
              "      <td>736657.2267</td>\n",
              "    </tr>\n",
              "    <tr>\n",
              "      <th>1</th>\n",
              "      <td>1/6/2019</td>\n",
              "      <td>26</td>\n",
              "      <td>233711.0000</td>\n",
              "    </tr>\n",
              "    <tr>\n",
              "      <th>2</th>\n",
              "      <td>1/6/2019</td>\n",
              "      <td>28</td>\n",
              "      <td>692156.3794</td>\n",
              "    </tr>\n",
              "    <tr>\n",
              "      <th>3</th>\n",
              "      <td>1/6/2019</td>\n",
              "      <td>29</td>\n",
              "      <td>213706.8000</td>\n",
              "    </tr>\n",
              "    <tr>\n",
              "      <th>4</th>\n",
              "      <td>1/6/2019</td>\n",
              "      <td>30</td>\n",
              "      <td>266455.0000</td>\n",
              "    </tr>\n",
              "    <tr>\n",
              "      <th>...</th>\n",
              "      <td>...</td>\n",
              "      <td>...</td>\n",
              "      <td>...</td>\n",
              "    </tr>\n",
              "    <tr>\n",
              "      <th>495</th>\n",
              "      <td>12/15/2019</td>\n",
              "      <td>31</td>\n",
              "      <td>401803.3590</td>\n",
              "    </tr>\n",
              "    <tr>\n",
              "      <th>496</th>\n",
              "      <td>12/15/2019</td>\n",
              "      <td>35</td>\n",
              "      <td>135799.1429</td>\n",
              "    </tr>\n",
              "    <tr>\n",
              "      <th>497</th>\n",
              "      <td>12/15/2019</td>\n",
              "      <td>38</td>\n",
              "      <td>115424.2250</td>\n",
              "    </tr>\n",
              "    <tr>\n",
              "      <th>498</th>\n",
              "      <td>12/15/2019</td>\n",
              "      <td>41</td>\n",
              "      <td>103375.0000</td>\n",
              "    </tr>\n",
              "    <tr>\n",
              "      <th>499</th>\n",
              "      <td>12/15/2019</td>\n",
              "      <td>44</td>\n",
              "      <td>51210.0000</td>\n",
              "    </tr>\n",
              "  </tbody>\n",
              "</table>\n",
              "<p>500 rows × 3 columns</p>\n",
              "</div>"
            ],
            "text/plain": [
              "           date  store_id        sales\n",
              "0      1/6/2019        25  736657.2267\n",
              "1      1/6/2019        26  233711.0000\n",
              "2      1/6/2019        28  692156.3794\n",
              "3      1/6/2019        29  213706.8000\n",
              "4      1/6/2019        30  266455.0000\n",
              "..          ...       ...          ...\n",
              "495  12/15/2019        31  401803.3590\n",
              "496  12/15/2019        35  135799.1429\n",
              "497  12/15/2019        38  115424.2250\n",
              "498  12/15/2019        41  103375.0000\n",
              "499  12/15/2019        44   51210.0000\n",
              "\n",
              "[500 rows x 3 columns]"
            ]
          },
          "metadata": {
            "tags": []
          },
          "execution_count": 16
        }
      ]
    },
    {
      "cell_type": "code",
      "metadata": {
        "id": "PQCW-L7FwgFl"
      },
      "source": [
        "df['date'] = pd.to_datetime(df['date'], infer_datetime_format=True)"
      ],
      "execution_count": null,
      "outputs": []
    },
    {
      "cell_type": "markdown",
      "metadata": {
        "id": "aDflKaS76cQw"
      },
      "source": [
        "# 探索数据\n"
      ]
    },
    {
      "cell_type": "code",
      "metadata": {
        "colab": {
          "base_uri": "https://localhost:8080/"
        },
        "id": "KJrAQj6rwgam",
        "outputId": "995fe274-42bd-4507-9061-7d130089bf3f"
      },
      "source": [
        "print (\"\\nFeatures : \\n\" ,df.columns.tolist())\n",
        "print (\"\\nMissing values :  \", df.isnull().any())\n",
        "print (\"\\nUnique values :  \\n\",df.nunique())"
      ],
      "execution_count": 17,
      "outputs": [
        {
          "output_type": "stream",
          "text": [
            "\n",
            "Features : \n",
            " ['date', 'store_id', 'sales']\n",
            "\n",
            "Missing values :   date        False\n",
            "store_id    False\n",
            "sales       False\n",
            "dtype: bool\n",
            "\n",
            "Unique values :  \n",
            " date         50\n",
            "store_id     10\n",
            "sales       500\n",
            "dtype: int64\n"
          ],
          "name": "stdout"
        }
      ]
    },
    {
      "cell_type": "code",
      "metadata": {
        "colab": {
          "base_uri": "https://localhost:8080/"
        },
        "id": "yx99lYGKwuCN",
        "outputId": "c7468730-afc7-4bfa-a345-fa8dc68a16ec"
      },
      "source": [
        "df.info()"
      ],
      "execution_count": 18,
      "outputs": [
        {
          "output_type": "stream",
          "text": [
            "<class 'pandas.core.frame.DataFrame'>\n",
            "RangeIndex: 500 entries, 0 to 499\n",
            "Data columns (total 3 columns):\n",
            " #   Column    Non-Null Count  Dtype  \n",
            "---  ------    --------------  -----  \n",
            " 0   date      500 non-null    object \n",
            " 1   store_id  500 non-null    int64  \n",
            " 2   sales     500 non-null    float64\n",
            "dtypes: float64(1), int64(1), object(1)\n",
            "memory usage: 11.8+ KB\n"
          ],
          "name": "stdout"
        }
      ]
    },
    {
      "cell_type": "code",
      "metadata": {
        "colab": {
          "base_uri": "https://localhost:8080/",
          "height": 288
        },
        "id": "VM84D3ETx_a6",
        "outputId": "36df1512-8fac-4f7b-9ca7-ba83b1cd1a3c"
      },
      "source": [
        "df_base = df.copy()\n",
        "df.describe()"
      ],
      "execution_count": 21,
      "outputs": [
        {
          "output_type": "execute_result",
          "data": {
            "text/html": [
              "<div>\n",
              "<style scoped>\n",
              "    .dataframe tbody tr th:only-of-type {\n",
              "        vertical-align: middle;\n",
              "    }\n",
              "\n",
              "    .dataframe tbody tr th {\n",
              "        vertical-align: top;\n",
              "    }\n",
              "\n",
              "    .dataframe thead th {\n",
              "        text-align: right;\n",
              "    }\n",
              "</style>\n",
              "<table border=\"1\" class=\"dataframe\">\n",
              "  <thead>\n",
              "    <tr style=\"text-align: right;\">\n",
              "      <th></th>\n",
              "      <th>store_id</th>\n",
              "      <th>sales</th>\n",
              "    </tr>\n",
              "  </thead>\n",
              "  <tbody>\n",
              "    <tr>\n",
              "      <th>count</th>\n",
              "      <td>500.0000</td>\n",
              "      <td>5.000000e+02</td>\n",
              "    </tr>\n",
              "    <tr>\n",
              "      <th>mean</th>\n",
              "      <td>32.7000</td>\n",
              "      <td>4.470800e+05</td>\n",
              "    </tr>\n",
              "    <tr>\n",
              "      <th>std</th>\n",
              "      <td>6.1714</td>\n",
              "      <td>2.970660e+05</td>\n",
              "    </tr>\n",
              "    <tr>\n",
              "      <th>min</th>\n",
              "      <td>25.0000</td>\n",
              "      <td>1.278800e+04</td>\n",
              "    </tr>\n",
              "    <tr>\n",
              "      <th>25%</th>\n",
              "      <td>28.0000</td>\n",
              "      <td>2.526557e+05</td>\n",
              "    </tr>\n",
              "    <tr>\n",
              "      <th>50%</th>\n",
              "      <td>30.5000</td>\n",
              "      <td>3.150259e+05</td>\n",
              "    </tr>\n",
              "    <tr>\n",
              "      <th>75%</th>\n",
              "      <td>38.0000</td>\n",
              "      <td>6.845418e+05</td>\n",
              "    </tr>\n",
              "    <tr>\n",
              "      <th>max</th>\n",
              "      <td>44.0000</td>\n",
              "      <td>1.631585e+06</td>\n",
              "    </tr>\n",
              "  </tbody>\n",
              "</table>\n",
              "</div>"
            ],
            "text/plain": [
              "       store_id         sales\n",
              "count  500.0000  5.000000e+02\n",
              "mean    32.7000  4.470800e+05\n",
              "std      6.1714  2.970660e+05\n",
              "min     25.0000  1.278800e+04\n",
              "25%     28.0000  2.526557e+05\n",
              "50%     30.5000  3.150259e+05\n",
              "75%     38.0000  6.845418e+05\n",
              "max     44.0000  1.631585e+06"
            ]
          },
          "metadata": {
            "tags": []
          },
          "execution_count": 21
        }
      ]
    },
    {
      "cell_type": "code",
      "metadata": {
        "id": "jm0URjsCySYN"
      },
      "source": [
        "item_df = df.set_index('date')"
      ],
      "execution_count": 22,
      "outputs": []
    },
    {
      "cell_type": "markdown",
      "metadata": {
        "id": "oYmt_O3h6zWg"
      },
      "source": [
        ""
      ]
    },
    {
      "cell_type": "code",
      "metadata": {
        "colab": {
          "base_uri": "https://localhost:8080/",
          "height": 525
        },
        "id": "EQ1SHrocyd8_",
        "outputId": "73a6dfc0-1d91-41a1-b88a-934c2b8a6046"
      },
      "source": [
        "item_df.query(\"store_id==25\")[['sales']].plot()"
      ],
      "execution_count": 24,
      "outputs": [
        {
          "output_type": "execute_result",
          "data": {
            "text/plain": [
              "<matplotlib.axes._subplots.AxesSubplot at 0x7f36a9a481d0>"
            ]
          },
          "metadata": {
            "tags": []
          },
          "execution_count": 24
        },
        {
          "output_type": "display_data",
          "data": {
            "image/png": "[encoded data removed]",
            "text/plain": [
              "<Figure size 720x576 with 1 Axes>"
            ]
          },
          "metadata": {
            "tags": [],
            "needs_background": "light"
          }
        }
      ]
    },
    {
      "cell_type": "markdown",
      "metadata": {
        "id": "bzljyihz609b"
      },
      "source": [
        "# 创建 spark dataframe"
      ]
    },
    {
      "cell_type": "code",
      "metadata": {
        "id": "AJCdK7CNzMKZ"
      },
      "source": [
        "sdf = spark.createDataFrame(df)"
      ],
      "execution_count": 26,
      "outputs": []
    },
    {
      "cell_type": "code",
      "metadata": {
        "colab": {
          "base_uri": "https://localhost:8080/"
        },
        "id": "UyCHcHQFzXoT",
        "outputId": "40561fbc-1395-42e5-a570-c45ea78f01ce"
      },
      "source": [
        "sdf.printSchema()"
      ],
      "execution_count": 27,
      "outputs": [
        {
          "output_type": "stream",
          "text": [
            "root\n",
            " |-- date: string (nullable = true)\n",
            " |-- store_id: long (nullable = true)\n",
            " |-- sales: double (nullable = true)\n",
            "\n"
          ],
          "name": "stdout"
        }
      ]
    },
    {
      "cell_type": "code",
      "metadata": {
        "colab": {
          "base_uri": "https://localhost:8080/"
        },
        "id": "LiJU1tJwzYB9",
        "outputId": "ed264d1c-cd32-46d2-9e9e-f266c7ce165a"
      },
      "source": [
        "sdf.select(['store_id']).groupBy('store_id').agg({'store_id':'count'}).show()"
      ],
      "execution_count": 28,
      "outputs": [
        {
          "output_type": "stream",
          "text": [
            "+--------+---------------+\n",
            "|store_id|count(store_id)|\n",
            "+--------+---------------+\n",
            "|      26|             50|\n",
            "|      29|             50|\n",
            "|      31|             50|\n",
            "|      25|             50|\n",
            "|      41|             50|\n",
            "|      28|             50|\n",
            "|      44|             50|\n",
            "|      35|             50|\n",
            "|      38|             50|\n",
            "|      30|             50|\n",
            "+--------+---------------+\n",
            "\n"
          ],
          "name": "stdout"
        }
      ]
    },
    {
      "cell_type": "code",
      "metadata": {
        "id": "cYEictIWzYUU"
      },
      "source": [
        "sdf.createOrReplaceTempView(\"sales\")"
      ],
      "execution_count": 34,
      "outputs": []
    },
    {
      "cell_type": "code",
      "metadata": {
        "colab": {
          "base_uri": "https://localhost:8080/"
        },
        "id": "JQb44vmazYpT",
        "outputId": "b4f2af4b-9dc0-45ab-d01e-fca32570f4e1"
      },
      "source": [
        "spark.sql(\"select store_id, count(*) from sales group by store_id order by store_id\").show()"
      ],
      "execution_count": 36,
      "outputs": [
        {
          "output_type": "stream",
          "text": [
            "+--------+--------+\n",
            "|store_id|count(1)|\n",
            "+--------+--------+\n",
            "|      25|      50|\n",
            "|      26|      50|\n",
            "|      28|      50|\n",
            "|      29|      50|\n",
            "|      30|      50|\n",
            "|      31|      50|\n",
            "|      35|      50|\n",
            "|      38|      50|\n",
            "|      41|      50|\n",
            "|      44|      50|\n",
            "+--------+--------+\n",
            "\n"
          ],
          "name": "stdout"
        }
      ]
    },
    {
      "cell_type": "code",
      "metadata": {
        "id": "XuxyPhKn08QL"
      },
      "source": [
        "sql = 'SELECT store_id, date as ds, sum(sales) as y FROM sales GROUP BY store_id, ds ORDER BY store_id, ds'"
      ],
      "execution_count": 37,
      "outputs": []
    },
    {
      "cell_type": "code",
      "metadata": {
        "colab": {
          "base_uri": "https://localhost:8080/"
        },
        "id": "dN48Ihhr0_xC",
        "outputId": "9347eb6d-9d8d-4606-e20e-15c612d1c2ec"
      },
      "source": [
        "spark.sql(sql).show()"
      ],
      "execution_count": 38,
      "outputs": [
        {
          "output_type": "stream",
          "text": [
            "+--------+----------+------------------+\n",
            "|store_id|        ds|                 y|\n",
            "+--------+----------+------------------+\n",
            "|      25| 1/13/2019|       696457.1717|\n",
            "|      25| 1/20/2019|        996876.875|\n",
            "|      25| 1/27/2019|        1029737.05|\n",
            "|      25|  1/6/2019|       736657.2267|\n",
            "|      25|10/13/2019|        735723.327|\n",
            "|      25|10/20/2019|         984872.55|\n",
            "|      25|10/27/2019|       866777.1362|\n",
            "|      25| 10/6/2019|          861162.1|\n",
            "|      25|11/10/2019|         895675.95|\n",
            "|      25|11/17/2019|       255034.3333|\n",
            "|      25|11/24/2019|          314210.5|\n",
            "|      25| 11/3/2019|1028016.8470000001|\n",
            "|      25| 12/1/2019|       376708.0633|\n",
            "|      25|12/15/2019|       307857.8817|\n",
            "|      25| 12/8/2019|       914292.7833|\n",
            "|      25| 2/10/2019|       880462.4681|\n",
            "|      25| 2/17/2019|        1088756.78|\n",
            "|      25| 2/24/2019|       1266928.313|\n",
            "|      25|  2/3/2019|       1072873.705|\n",
            "|      25| 3/10/2019|       747920.9824|\n",
            "+--------+----------+------------------+\n",
            "only showing top 20 rows\n",
            "\n"
          ],
          "name": "stdout"
        }
      ]
    },
    {
      "cell_type": "code",
      "metadata": {
        "colab": {
          "base_uri": "https://localhost:8080/"
        },
        "id": "ueRZqA5b2pZU",
        "outputId": "9da85656-cf6a-4ab9-b429-e37f4efe0c70"
      },
      "source": [
        "sdf.explain()"
      ],
      "execution_count": 39,
      "outputs": [
        {
          "output_type": "stream",
          "text": [
            "== Physical Plan ==\n",
            "*(1) Scan ExistingRDD[date#6,store_id#7L,sales#8]\n",
            "\n",
            "\n"
          ],
          "name": "stdout"
        }
      ]
    },
    {
      "cell_type": "code",
      "metadata": {
        "colab": {
          "base_uri": "https://localhost:8080/"
        },
        "id": "E8FLtcxU0_73",
        "outputId": "c1a97707-f26f-4d7b-c58a-d50708555210"
      },
      "source": [
        "sdf.rdd.getNumPartitions()"
      ],
      "execution_count": 40,
      "outputs": [
        {
          "output_type": "execute_result",
          "data": {
            "text/plain": [
              "1"
            ]
          },
          "metadata": {
            "tags": []
          },
          "execution_count": 40
        }
      ]
    },
    {
      "cell_type": "code",
      "metadata": {
        "id": "EWKNDwxC0__C"
      },
      "source": [
        "store_part = (spark.sql( sql ).repartition(spark.sparkContext.defaultParallelism, ['store_id'])).cache()"
      ],
      "execution_count": 44,
      "outputs": []
    },
    {
      "cell_type": "code",
      "metadata": {
        "colab": {
          "base_uri": "https://localhost:8080/"
        },
        "id": "OSOdb3sP1ADn",
        "outputId": "fe3b7af4-98ba-4916-c313-d99c32428cc1"
      },
      "source": [
        "store_part"
      ],
      "execution_count": 45,
      "outputs": [
        {
          "output_type": "execute_result",
          "data": {
            "text/plain": [
              "DataFrame[store_id: bigint, ds: string, y: double]"
            ]
          },
          "metadata": {
            "tags": []
          },
          "execution_count": 45
        }
      ]
    },
    {
      "cell_type": "code",
      "metadata": {
        "colab": {
          "base_uri": "https://localhost:8080/"
        },
        "id": "VbpLpzd61AHV",
        "outputId": "4cacdb2d-708f-497b-af16-4b3d9a25f547"
      },
      "source": [
        "store_part.explain()"
      ],
      "execution_count": 46,
      "outputs": [
        {
          "output_type": "stream",
          "text": [
            "== Physical Plan ==\n",
            "InMemoryTableScan [store_id#7L, ds#125, y#126]\n",
            "   +- InMemoryRelation [store_id#7L, ds#125, y#126], StorageLevel(disk, memory, deserialized, 1 replicas)\n",
            "         +- Exchange hashpartitioning(store_id#7L, 1), false, [id=#146]\n",
            "            +- *(3) Sort [store_id#7L ASC NULLS FIRST, ds#90 ASC NULLS FIRST], true, 0\n",
            "               +- Exchange rangepartitioning(store_id#7L ASC NULLS FIRST, ds#90 ASC NULLS FIRST, 200), true, [id=#142]\n",
            "                  +- *(2) HashAggregate(keys=[store_id#7L, date#6], functions=[sum(sales#8)])\n",
            "                     +- Exchange hashpartitioning(store_id#7L, date#6, 200), true, [id=#138]\n",
            "                        +- *(1) HashAggregate(keys=[store_id#7L, date#6], functions=[partial_sum(sales#8)])\n",
            "                           +- *(1) Scan ExistingRDD[date#6,store_id#7L,sales#8]\n",
            "\n",
            "\n"
          ],
          "name": "stdout"
        }
      ]
    },
    {
      "cell_type": "code",
      "metadata": {
        "id": "_CEoT3AE1AJ-"
      },
      "source": [
        "from pyspark.sql.types import *\n",
        "result_schema =StructType([\n",
        "  StructField('ds',TimestampType()),\n",
        "  StructField('store_id',IntegerType()),\n",
        "  StructField('y',DoubleType()),\n",
        "  StructField('yhat',DoubleType()),\n",
        "  StructField('yhat_upper',DoubleType()),\n",
        "  StructField('yhat_lower',DoubleType())\n",
        "  ])"
      ],
      "execution_count": 47,
      "outputs": []
    },
    {
      "cell_type": "code",
      "metadata": {
        "id": "0g1kY_Da1ANG"
      },
      "source": [
        "from pyspark.sql.functions import pandas_udf, PandasUDFType\n",
        "\n",
        "@pandas_udf( result_schema, PandasUDFType.GROUPED_MAP )\n",
        "def forecast_sales( store_pd ):\n",
        "\n",
        "  model = Prophet(interval_width=0.95,seasonality_mode = 'multiplicative', weekly_seasonality=True, yearly_seasonality=True)\n",
        "\n",
        "  model.fit( store_pd )\n",
        "\n",
        "  future_pd = model.make_future_dataframe(\n",
        "    periods=5, \n",
        "    freq='w'\n",
        "    )\n",
        "  \n",
        "  forecast_pd = model.predict( future_pd )  \n",
        "  \n",
        "  f_pd = forecast_pd[ ['ds','yhat', 'yhat_upper', 'yhat_lower'] ].set_index('ds')\n",
        "  \n",
        "  st_pd = store_pd[['ds','store_id','y']].set_index('ds')\n",
        "  \n",
        "  results_pd = f_pd.join( st_pd, how='left' )\n",
        "  results_pd.reset_index(level=0, inplace=True)\n",
        "  \n",
        "  results_pd['store_id'] = store_pd['store_id'].iloc[0]\n",
        "\n",
        "  return results_pd[ ['ds', 'store_id','y', 'yhat', 'yhat_upper', 'yhat_lower'] ]\n"
      ],
      "execution_count": 48,
      "outputs": []
    },
    {
      "cell_type": "code",
      "metadata": {
        "colab": {
          "base_uri": "https://localhost:8080/"
        },
        "id": "hyqcbYHt1AQ2",
        "outputId": "bec40727-d0a3-49cb-ea04-fd2bc138aba0"
      },
      "source": [
        "from pyspark.sql.functions import current_date\n",
        "\n",
        "results = (\n",
        "  store_part\n",
        "    .groupBy('store_id')\n",
        "    .apply(forecast_sales)\n",
        "    .withColumn('training_date', current_date() )\n",
        "    )"
      ],
      "execution_count": 49,
      "outputs": [
        {
          "output_type": "stream",
          "text": [
            "/usr/local/lib/python3.6/dist-packages/pyspark/sql/pandas/group_ops.py:76: UserWarning:\n",
            "\n",
            "It is preferred to use 'applyInPandas' over this API. This API will be deprecated in the future releases. See SPARK-28264 for more details.\n",
            "\n"
          ],
          "name": "stderr"
        }
      ]
    },
    {
      "cell_type": "code",
      "metadata": {
        "colab": {
          "base_uri": "https://localhost:8080/"
        },
        "id": "SLXaZHoOG560",
        "outputId": "93c5d738-bf03-42ae-fa26-da299d6cb29c"
      },
      "source": [
        "results"
      ],
      "execution_count": 64,
      "outputs": [
        {
          "output_type": "execute_result",
          "data": {
            "text/plain": [
              "DataFrame[ds: timestamp, store_id: int, y: double, yhat: double, yhat_upper: double, yhat_lower: double, training_date: date]"
            ]
          },
          "metadata": {
            "tags": []
          },
          "execution_count": 64
        }
      ]
    },
    {
      "cell_type": "code",
      "metadata": {
        "colab": {
          "base_uri": "https://localhost:8080/"
        },
        "id": "h8LpUWi01AVc",
        "outputId": "68aa7369-812c-48c5-94a7-5927b35dd5a8"
      },
      "source": [
        "\n",
        "results.show()"
      ],
      "execution_count": 51,
      "outputs": [
        {
          "output_type": "stream",
          "text": [
            "+-------------------+--------+------------------+------------------+------------------+-----------------+-------------+\n",
            "|                 ds|store_id|                 y|              yhat|        yhat_upper|       yhat_lower|training_date|\n",
            "+-------------------+--------+------------------+------------------+------------------+-----------------+-------------+\n",
            "|2019-01-06 00:00:00|      25|       736657.2267| 712575.0694095818|  951140.578583313| 480838.477895834|   2020-11-27|\n",
            "|2019-01-13 00:00:00|      25|       696457.1717| 743751.7568979745| 982175.3551027562|523125.4167708676|   2020-11-27|\n",
            "|2019-01-20 00:00:00|      25|        996876.875| 972909.8778074606|1192642.6419723546|736619.2319320181|   2020-11-27|\n",
            "|2019-01-27 00:00:00|      25|        1029737.05|1034447.5557655566| 1274185.687448265|814257.1160012698|   2020-11-27|\n",
            "|2019-02-03 00:00:00|      25|       1072873.705| 986365.7266813249|1238918.2283004974|741233.3078016025|   2020-11-27|\n",
            "|2019-02-10 00:00:00|      25|       880462.4681|1016291.0609378252|1260446.7418598656|770930.9346260809|   2020-11-27|\n",
            "|2019-02-17 00:00:00|      25|        1088756.78|1108793.2648377852|1341760.7863470826|858830.5321361182|   2020-11-27|\n",
            "|2019-02-24 00:00:00|      25|       1266928.313| 1099825.778191229| 1329037.614033336|862422.3427859874|   2020-11-27|\n",
            "|2019-03-03 00:00:00|      25|       907510.1217| 954930.7385069402|1198351.8954364148|737680.0260536309|   2020-11-27|\n",
            "|2019-03-10 00:00:00|      25|       747920.9824| 840307.5565039386|1078022.5056914254|602002.8212614018|   2020-11-27|\n",
            "|2019-03-17 00:00:00|      25|       904750.3158| 895698.5219485628|1134221.9583423247|666183.6970264711|   2020-11-27|\n",
            "|2019-03-24 00:00:00|      25|1069857.5890000002|1040022.5385733753|1276565.1937201552| 799454.196948992|   2020-11-27|\n",
            "|2019-03-31 00:00:00|      25|       1195574.314|1078329.0328818252|1317194.9222217896|845432.6676903283|   2020-11-27|\n",
            "|2019-04-07 00:00:00|      25|       834911.3333| 957531.8584538421|1180067.5367983275|736641.1012276451|   2020-11-27|\n",
            "|2019-04-14 00:00:00|      25|       788777.4167| 825594.4716870873|1054914.8013905215|603569.2303233278|   2020-11-27|\n",
            "|2019-04-21 00:00:00|      25|       849603.4333|  826255.107714139|1051118.7219774872|600835.3896296604|   2020-11-27|\n",
            "|2019-04-28 00:00:00|      25|        965521.165| 913980.6218906845| 1142175.797533624|678846.6848546594|   2020-11-27|\n",
            "|2019-05-05 00:00:00|      25|       1045632.688|  931383.522344465|1174561.9950130181|710840.4769074965|   2020-11-27|\n",
            "|2019-05-12 00:00:00|      25|        587768.245| 831326.9849957973|1087375.4294083172|590724.2601939959|   2020-11-27|\n",
            "|2019-05-19 00:00:00|      25|       806767.5946| 740232.6751864685| 970252.8432084818| 509273.613615946|   2020-11-27|\n",
            "+-------------------+--------+------------------+------------------+------------------+-----------------+-------------+\n",
            "only showing top 20 rows\n",
            "\n"
          ],
          "name": "stdout"
        }
      ]
    },
    {
      "cell_type": "code",
      "metadata": {
        "colab": {
          "base_uri": "https://localhost:8080/"
        },
        "id": "TJnpYxh71AbQ",
        "outputId": "2defed6f-f0cb-469b-c930-345cc5884726"
      },
      "source": [
        "results.explain()"
      ],
      "execution_count": 52,
      "outputs": [
        {
          "output_type": "stream",
          "text": [
            "== Physical Plan ==\n",
            "*(2) Project [ds#182, store_id#183, y#184, yhat#185, yhat_upper#186, yhat_lower#187, 18593 AS training_date#194]\n",
            "+- FlatMapGroupsInPandas [store_id#7L], forecast_sales(store_id#7L, ds#125, y#126), [ds#182, store_id#183, y#184, yhat#185, yhat_upper#186, yhat_lower#187]\n",
            "   +- *(1) Sort [store_id#7L ASC NULLS FIRST], false, 0\n",
            "      +- InMemoryTableScan [store_id#7L, store_id#7L, ds#125, y#126]\n",
            "            +- InMemoryRelation [store_id#7L, ds#125, y#126], StorageLevel(disk, memory, deserialized, 1 replicas)\n",
            "                  +- Exchange hashpartitioning(store_id#7L, 1), false, [id=#146]\n",
            "                     +- *(3) Sort [store_id#7L ASC NULLS FIRST, ds#90 ASC NULLS FIRST], true, 0\n",
            "                        +- Exchange rangepartitioning(store_id#7L ASC NULLS FIRST, ds#90 ASC NULLS FIRST, 200), true, [id=#142]\n",
            "                           +- *(2) HashAggregate(keys=[store_id#7L, date#6], functions=[sum(sales#8)])\n",
            "                              +- Exchange hashpartitioning(store_id#7L, date#6, 200), true, [id=#138]\n",
            "                                 +- *(1) HashAggregate(keys=[store_id#7L, date#6], functions=[partial_sum(sales#8)])\n",
            "                                    +- *(1) Scan ExistingRDD[date#6,store_id#7L,sales#8]\n",
            "\n",
            "\n"
          ],
          "name": "stdout"
        }
      ]
    },
    {
      "cell_type": "code",
      "metadata": {
        "colab": {
          "base_uri": "https://localhost:8080/"
        },
        "id": "RE4ibL331Ah2",
        "outputId": "652546cb-e9c0-4a50-c1b5-6da7b8a86665"
      },
      "source": [
        "results.coalesce(1)"
      ],
      "execution_count": 53,
      "outputs": [
        {
          "output_type": "execute_result",
          "data": {
            "text/plain": [
              "DataFrame[ds: timestamp, store_id: int, y: double, yhat: double, yhat_upper: double, yhat_lower: double, training_date: date]"
            ]
          },
          "metadata": {
            "tags": []
          },
          "execution_count": 53
        }
      ]
    },
    {
      "cell_type": "code",
      "metadata": {
        "colab": {
          "base_uri": "https://localhost:8080/"
        },
        "id": "ZiKYHcb81Akq",
        "outputId": "412324d3-c5fc-45f0-b97d-4ae368e66e47"
      },
      "source": [
        "results.count()"
      ],
      "execution_count": 54,
      "outputs": [
        {
          "output_type": "execute_result",
          "data": {
            "text/plain": [
              "550"
            ]
          },
          "metadata": {
            "tags": []
          },
          "execution_count": 54
        }
      ]
    },
    {
      "cell_type": "code",
      "metadata": {
        "id": "35--YFmMDrT3"
      },
      "source": [
        "results.createOrReplaceTempView('forecasted')"
      ],
      "execution_count": 61,
      "outputs": []
    },
    {
      "cell_type": "code",
      "metadata": {
        "colab": {
          "base_uri": "https://localhost:8080/"
        },
        "id": "pJ8gtuRhEUzo",
        "outputId": "41626877-28cc-486f-87b5-3943e65d818a"
      },
      "source": [
        "spark.sql(\"select store_id, count(*) from forecasted group by store_id\").show()"
      ],
      "execution_count": 62,
      "outputs": [
        {
          "output_type": "stream",
          "text": [
            "+--------+--------+\n",
            "|store_id|count(1)|\n",
            "+--------+--------+\n",
            "|      31|      55|\n",
            "|      28|      55|\n",
            "|      26|      55|\n",
            "|      44|      55|\n",
            "|      41|      55|\n",
            "|      35|      55|\n",
            "|      38|      55|\n",
            "|      25|      55|\n",
            "|      29|      55|\n",
            "|      30|      55|\n",
            "+--------+--------+\n",
            "\n"
          ],
          "name": "stdout"
        }
      ]
    },
    {
      "cell_type": "code",
      "metadata": {
        "id": "j0jUJABmEVaY"
      },
      "source": [
        "final_df = results.toPandas()"
      ],
      "execution_count": 65,
      "outputs": []
    },
    {
      "cell_type": "code",
      "metadata": {
        "colab": {
          "base_uri": "https://localhost:8080/",
          "height": 407
        },
        "id": "JfJdPqn9EVrm",
        "outputId": "f3f2c12c-31ee-475a-e8a7-b4d609a29f9a"
      },
      "source": [
        "final_df"
      ],
      "execution_count": 66,
      "outputs": [
        {
          "output_type": "execute_result",
          "data": {
            "text/html": [
              "<div>\n",
              "<style scoped>\n",
              "    .dataframe tbody tr th:only-of-type {\n",
              "        vertical-align: middle;\n",
              "    }\n",
              "\n",
              "    .dataframe tbody tr th {\n",
              "        vertical-align: top;\n",
              "    }\n",
              "\n",
              "    .dataframe thead th {\n",
              "        text-align: right;\n",
              "    }\n",
              "</style>\n",
              "<table border=\"1\" class=\"dataframe\">\n",
              "  <thead>\n",
              "    <tr style=\"text-align: right;\">\n",
              "      <th></th>\n",
              "      <th>ds</th>\n",
              "      <th>store_id</th>\n",
              "      <th>y</th>\n",
              "      <th>yhat</th>\n",
              "      <th>yhat_upper</th>\n",
              "      <th>yhat_lower</th>\n",
              "      <th>training_date</th>\n",
              "    </tr>\n",
              "  </thead>\n",
              "  <tbody>\n",
              "    <tr>\n",
              "      <th>0</th>\n",
              "      <td>2019-01-06</td>\n",
              "      <td>25</td>\n",
              "      <td>7.366572e+05</td>\n",
              "      <td>7.125751e+05</td>\n",
              "      <td>9.511406e+05</td>\n",
              "      <td>480838.477896</td>\n",
              "      <td>2020-11-27</td>\n",
              "    </tr>\n",
              "    <tr>\n",
              "      <th>1</th>\n",
              "      <td>2019-01-13</td>\n",
              "      <td>25</td>\n",
              "      <td>6.964572e+05</td>\n",
              "      <td>7.437518e+05</td>\n",
              "      <td>9.821754e+05</td>\n",
              "      <td>523125.416771</td>\n",
              "      <td>2020-11-27</td>\n",
              "    </tr>\n",
              "    <tr>\n",
              "      <th>2</th>\n",
              "      <td>2019-01-20</td>\n",
              "      <td>25</td>\n",
              "      <td>9.968769e+05</td>\n",
              "      <td>9.729099e+05</td>\n",
              "      <td>1.192643e+06</td>\n",
              "      <td>736619.231932</td>\n",
              "      <td>2020-11-27</td>\n",
              "    </tr>\n",
              "    <tr>\n",
              "      <th>3</th>\n",
              "      <td>2019-01-27</td>\n",
              "      <td>25</td>\n",
              "      <td>1.029737e+06</td>\n",
              "      <td>1.034448e+06</td>\n",
              "      <td>1.274186e+06</td>\n",
              "      <td>814257.116001</td>\n",
              "      <td>2020-11-27</td>\n",
              "    </tr>\n",
              "    <tr>\n",
              "      <th>4</th>\n",
              "      <td>2019-02-03</td>\n",
              "      <td>25</td>\n",
              "      <td>1.072874e+06</td>\n",
              "      <td>9.863657e+05</td>\n",
              "      <td>1.238918e+06</td>\n",
              "      <td>741233.307802</td>\n",
              "      <td>2020-11-27</td>\n",
              "    </tr>\n",
              "    <tr>\n",
              "      <th>...</th>\n",
              "      <td>...</td>\n",
              "      <td>...</td>\n",
              "      <td>...</td>\n",
              "      <td>...</td>\n",
              "      <td>...</td>\n",
              "      <td>...</td>\n",
              "      <td>...</td>\n",
              "    </tr>\n",
              "    <tr>\n",
              "      <th>545</th>\n",
              "      <td>2019-12-22</td>\n",
              "      <td>44</td>\n",
              "      <td>NaN</td>\n",
              "      <td>6.265474e+04</td>\n",
              "      <td>1.256189e+05</td>\n",
              "      <td>-1622.115614</td>\n",
              "      <td>2020-11-27</td>\n",
              "    </tr>\n",
              "    <tr>\n",
              "      <th>546</th>\n",
              "      <td>2019-12-29</td>\n",
              "      <td>44</td>\n",
              "      <td>NaN</td>\n",
              "      <td>2.657442e+04</td>\n",
              "      <td>9.146077e+04</td>\n",
              "      <td>-33624.394331</td>\n",
              "      <td>2020-11-27</td>\n",
              "    </tr>\n",
              "    <tr>\n",
              "      <th>547</th>\n",
              "      <td>2020-01-05</td>\n",
              "      <td>44</td>\n",
              "      <td>NaN</td>\n",
              "      <td>8.801264e+03</td>\n",
              "      <td>7.500485e+04</td>\n",
              "      <td>-53323.971125</td>\n",
              "      <td>2020-11-27</td>\n",
              "    </tr>\n",
              "    <tr>\n",
              "      <th>548</th>\n",
              "      <td>2020-01-12</td>\n",
              "      <td>44</td>\n",
              "      <td>NaN</td>\n",
              "      <td>4.665900e+03</td>\n",
              "      <td>7.162263e+04</td>\n",
              "      <td>-55275.376013</td>\n",
              "      <td>2020-11-27</td>\n",
              "    </tr>\n",
              "    <tr>\n",
              "      <th>549</th>\n",
              "      <td>2020-01-19</td>\n",
              "      <td>44</td>\n",
              "      <td>NaN</td>\n",
              "      <td>2.708830e+03</td>\n",
              "      <td>6.345946e+04</td>\n",
              "      <td>-58208.020468</td>\n",
              "      <td>2020-11-27</td>\n",
              "    </tr>\n",
              "  </tbody>\n",
              "</table>\n",
              "<p>550 rows × 7 columns</p>\n",
              "</div>"
            ],
            "text/plain": [
              "            ds  store_id  ...     yhat_lower  training_date\n",
              "0   2019-01-06        25  ...  480838.477896     2020-11-27\n",
              "1   2019-01-13        25  ...  523125.416771     2020-11-27\n",
              "2   2019-01-20        25  ...  736619.231932     2020-11-27\n",
              "3   2019-01-27        25  ...  814257.116001     2020-11-27\n",
              "4   2019-02-03        25  ...  741233.307802     2020-11-27\n",
              "..         ...       ...  ...            ...            ...\n",
              "545 2019-12-22        44  ...   -1622.115614     2020-11-27\n",
              "546 2019-12-29        44  ...  -33624.394331     2020-11-27\n",
              "547 2020-01-05        44  ...  -53323.971125     2020-11-27\n",
              "548 2020-01-12        44  ...  -55275.376013     2020-11-27\n",
              "549 2020-01-19        44  ...  -58208.020468     2020-11-27\n",
              "\n",
              "[550 rows x 7 columns]"
            ]
          },
          "metadata": {
            "tags": []
          },
          "execution_count": 66
        }
      ]
    },
    {
      "cell_type": "code",
      "metadata": {
        "colab": {
          "base_uri": "https://localhost:8080/",
          "height": 133
        },
        "id": "zC0oWzoWEVEy",
        "outputId": "1ee2327a-ac98-41cb-c2f1-9c7426eb7a4c"
      },
      "source": [
        "final_df=final_df.set_index('ds')"
      ],
      "execution_count": 69,
      "outputs": [
        {
          "output_type": "error",
          "ename": "SyntaxError",
          "evalue": "ignored",
          "traceback": [
            "\u001b[0;36m  File \u001b[0;32m\"<ipython-input-69-2796f9b98f79>\"\u001b[0;36m, line \u001b[0;32m2\u001b[0m\n\u001b[0;31m    final_df=final_df.set_index('ds')\u001b[0m\n\u001b[0m                                     ^\u001b[0m\n\u001b[0;31mSyntaxError\u001b[0m\u001b[0;31m:\u001b[0m unexpected EOF while parsing\n"
          ]
        }
      ]
    },
    {
      "cell_type": "code",
      "metadata": {
        "colab": {
          "base_uri": "https://localhost:8080/",
          "height": 525
        },
        "id": "bLAOAb0iIOg8",
        "outputId": "02e0c671-f790-443b-95f9-0948749729a1"
      },
      "source": [
        "final_df.query('store_id==44')[['y','yhat']].plot()"
      ],
      "execution_count": 70,
      "outputs": [
        {
          "output_type": "execute_result",
          "data": {
            "text/plain": [
              "<matplotlib.axes._subplots.AxesSubplot at 0x7f36a9642978>"
            ]
          },
          "metadata": {
            "tags": []
          },
          "execution_count": 70
        },
        {
          "output_type": "display_data",
          "data": {
            "image/png": "[encoded data removed]",
            "text/plain": [
              "<Figure size 720x576 with 1 Axes>"
            ]
          },
          "metadata": {
            "tags": [],
            "needs_background": "light"
          }
        }
      ]
    },
    {
      "cell_type": "code",
      "metadata": {
        "colab": {
          "base_uri": "https://localhost:8080/",
          "height": 525
        },
        "id": "JnpKkW79Icmi",
        "outputId": "6845847b-7d07-4144-fcc8-2cb5b0737d83"
      },
      "source": [
        "final_df.query('store_id==26')[['y','yhat']].plot()"
      ],
      "execution_count": 71,
      "outputs": [
        {
          "output_type": "execute_result",
          "data": {
            "text/plain": [
              "<matplotlib.axes._subplots.AxesSubplot at 0x7f36a963c278>"
            ]
          },
          "metadata": {
            "tags": []
          },
          "execution_count": 71
        },
        {
          "output_type": "display_data",
          "data": {
            "image/png": "[encoded data removed]",
            "text/plain": [
              "<Figure size 720x576 with 1 Axes>"
            ]
          },
          "metadata": {
            "tags": [],
            "needs_background": "light"
          }
        }
      ]
    }
  ]
}